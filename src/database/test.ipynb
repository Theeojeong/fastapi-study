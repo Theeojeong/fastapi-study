{
 "cells": [
  {
   "cell_type": "markdown",
   "id": "d532f172",
   "metadata": {},
   "source": [
    "### db 접속 테스트"
   ]
  },
  {
   "cell_type": "code",
   "execution_count": 1,
   "id": "12fdb6d1",
   "metadata": {},
   "outputs": [
    {
     "name": "stdout",
     "output_type": "stream",
     "text": [
      "2025-10-23 19:04:53,852 INFO sqlalchemy.engine.Engine SELECT DATABASE()\n",
      "2025-10-23 19:04:53,853 INFO sqlalchemy.engine.Engine [raw sql] {}\n",
      "2025-10-23 19:04:53,860 INFO sqlalchemy.engine.Engine SELECT @@sql_mode\n",
      "2025-10-23 19:04:53,861 INFO sqlalchemy.engine.Engine [raw sql] {}\n",
      "2025-10-23 19:04:53,864 INFO sqlalchemy.engine.Engine SELECT @@lower_case_table_names\n",
      "2025-10-23 19:04:53,866 INFO sqlalchemy.engine.Engine [raw sql] {}\n",
      "2025-10-23 19:04:53,871 INFO sqlalchemy.engine.Engine BEGIN (implicit)\n",
      "2025-10-23 19:04:53,873 INFO sqlalchemy.engine.Engine SELECT 2\n",
      "2025-10-23 19:04:53,875 INFO sqlalchemy.engine.Engine [generated in 0.00120s] {}\n"
     ]
    },
    {
     "data": {
      "text/plain": [
       "2"
      ]
     },
     "execution_count": 1,
     "metadata": {},
     "output_type": "execute_result"
    }
   ],
   "source": [
    "from connection import SessionFactory\n",
    "from sqlalchemy import select\n",
    "\n",
    "session = SessionFactory()\n",
    "\n",
    "session.scalar(select(2))"
   ]
  },
  {
   "cell_type": "code",
   "execution_count": 4,
   "id": "53071cec",
   "metadata": {},
   "outputs": [
    {
     "name": "stdout",
     "output_type": "stream",
     "text": [
      "2025-10-23 19:07:31,264 INFO sqlalchemy.engine.Engine SELECT fastapi.id, fastapi.contents, fastapi.is_done \n",
      "FROM fastapi\n",
      "2025-10-23 19:07:31,265 INFO sqlalchemy.engine.Engine [cached since 51.56s ago] {}\n"
     ]
    }
   ],
   "source": [
    "from orm import FastAPI\n",
    "\n",
    "results = list(session.scalars(select(FastAPI)))"
   ]
  },
  {
   "cell_type": "code",
   "execution_count": 5,
   "id": "118ba259",
   "metadata": {},
   "outputs": [
    {
     "name": "stdout",
     "output_type": "stream",
     "text": [
      "FastAPI(id=1, contents=i want to get a job, is_bool=True\n",
      "FastAPI(id=2, contents=i want to earn money on my self, is_bool=True\n",
      "FastAPI(id=3, contents=i want to speak english well, is_bool=True\n"
     ]
    }
   ],
   "source": [
    "for result in results:\n",
    "    print(result)"
   ]
  }
 ],
 "metadata": {
  "kernelspec": {
   "display_name": ".venv",
   "language": "python",
   "name": "python3"
  },
  "language_info": {
   "codemirror_mode": {
    "name": "ipython",
    "version": 3
   },
   "file_extension": ".py",
   "mimetype": "text/x-python",
   "name": "python",
   "nbconvert_exporter": "python",
   "pygments_lexer": "ipython3",
   "version": "3.10.11"
  }
 },
 "nbformat": 4,
 "nbformat_minor": 5
}
