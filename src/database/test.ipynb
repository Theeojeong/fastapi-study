{
 "cells": [
  {
   "cell_type": "code",
   "execution_count": null,
   "id": "e0840e0b",
   "metadata": {},
   "outputs": [
    {
     "name": "stdout",
     "output_type": "stream",
     "text": [
      "2025-09-11 17:46:16,165 INFO sqlalchemy.engine.Engine BEGIN (implicit)\n",
      "2025-09-11 17:46:16,167 INFO sqlalchemy.engine.Engine SELECT todo.id, todo.contents, todo.is_done \n",
      "FROM todo\n",
      "2025-09-11 17:46:16,167 INFO sqlalchemy.engine.Engine [cached since 24.04s ago] {}\n",
      "ToDo(id=1, contents=Fastapi section 0, is_done=True)\n",
      "ToDo(id=2, contents=Fastapi section 1, is_done=True)\n",
      "ToDo(id=3, contents=Fastapi section 2, is_done=False)\n"
     ]
    }
   ],
   "source": [
    "from connection import SessionFactory\n",
    "from sqlalchemy import select\n",
    "from orm import ToDo\n",
    "\n",
    "session = SessionFactory()\n",
    "\n",
    "todo = session.scalars(select(ToDo))\n",
    "\n",
    "for i in todo:\n",
    "    print(i)"
   ]
  },
  {
   "cell_type": "code",
   "execution_count": null,
   "id": "fa28ee18",
   "metadata": {},
   "outputs": [],
   "source": []
  }
 ],
 "metadata": {
  "kernelspec": {
   "display_name": ".venv",
   "language": "python",
   "name": "python3"
  },
  "language_info": {
   "codemirror_mode": {
    "name": "ipython",
    "version": 3
   },
   "file_extension": ".py",
   "mimetype": "text/x-python",
   "name": "python",
   "nbconvert_exporter": "python",
   "pygments_lexer": "ipython3",
   "version": "3.10.11"
  }
 },
 "nbformat": 4,
 "nbformat_minor": 5
}
