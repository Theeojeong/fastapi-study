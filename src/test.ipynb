{
 "cells": [
  {
   "cell_type": "markdown",
   "id": "d532f172",
   "metadata": {},
   "source": [
    "### db 접속 테스트"
   ]
  },
  {
   "cell_type": "code",
   "execution_count": 2,
   "id": "12fdb6d1",
   "metadata": {},
   "outputs": [
    {
     "name": "stdout",
     "output_type": "stream",
     "text": [
      "2025-10-25 01:14:55,054 INFO sqlalchemy.engine.Engine BEGIN (implicit)\n",
      "2025-10-25 01:14:55,055 INFO sqlalchemy.engine.Engine SELECT 2\n",
      "2025-10-25 01:14:55,057 INFO sqlalchemy.engine.Engine [cached since 1.057s ago] {}\n"
     ]
    },
    {
     "data": {
      "text/plain": [
       "2"
      ]
     },
     "execution_count": 2,
     "metadata": {},
     "output_type": "execute_result"
    }
   ],
   "source": [
    "from database.connection import SessionFactory\n",
    "from sqlalchemy import select\n",
    "\n",
    "session = SessionFactory()\n",
    "\n",
    "session.scalar(select(2))"
   ]
  },
  {
   "cell_type": "code",
   "execution_count": 4,
   "id": "53071cec",
   "metadata": {},
   "outputs": [
    {
     "name": "stdout",
     "output_type": "stream",
     "text": [
      "2025-10-23 19:07:31,264 INFO sqlalchemy.engine.Engine SELECT fastapi.id, fastapi.contents, fastapi.is_done \n",
      "FROM fastapi\n",
      "2025-10-23 19:07:31,265 INFO sqlalchemy.engine.Engine [cached since 51.56s ago] {}\n"
     ]
    }
   ],
   "source": [
    "from orm import FastAPI\n",
    "\n",
    "results = list(session.scalars(select(FastAPI)))"
   ]
  },
  {
   "cell_type": "code",
   "execution_count": 5,
   "id": "118ba259",
   "metadata": {},
   "outputs": [
    {
     "name": "stdout",
     "output_type": "stream",
     "text": [
      "FastAPI(id=1, contents=i want to get a job, is_bool=True\n",
      "FastAPI(id=2, contents=i want to earn money on my self, is_bool=True\n",
      "FastAPI(id=3, contents=i want to speak english well, is_bool=True\n"
     ]
    }
   ],
   "source": [
    "for result in results:\n",
    "    print(result)"
   ]
  },
  {
   "cell_type": "code",
   "execution_count": 4,
   "id": "e3c6771f",
   "metadata": {},
   "outputs": [
    {
     "ename": "ImportError",
     "evalue": "cannot import name 'User' from 'database.orm' (c:\\dev2\\fastapi_study\\src\\database\\orm.py)",
     "output_type": "error",
     "traceback": [
      "\u001b[1;31m---------------------------------------------------------------------------\u001b[0m",
      "\u001b[1;31mImportError\u001b[0m                               Traceback (most recent call last)",
      "Cell \u001b[1;32mIn[4], line 2\u001b[0m\n\u001b[0;32m      1\u001b[0m \u001b[38;5;28;01mfrom\u001b[39;00m\u001b[38;5;250m \u001b[39m\u001b[38;5;21;01msqlalchemy\u001b[39;00m\u001b[38;5;21;01m.\u001b[39;00m\u001b[38;5;21;01mschema\u001b[39;00m\u001b[38;5;250m \u001b[39m\u001b[38;5;28;01mimport\u001b[39;00m CreateTable\n\u001b[1;32m----> 2\u001b[0m \u001b[38;5;28;01mfrom\u001b[39;00m\u001b[38;5;250m \u001b[39m\u001b[38;5;21;01mdatabase\u001b[39;00m\u001b[38;5;21;01m.\u001b[39;00m\u001b[38;5;21;01morm\u001b[39;00m\u001b[38;5;250m \u001b[39m\u001b[38;5;28;01mimport\u001b[39;00m Todo, User\n\u001b[0;32m      3\u001b[0m \u001b[38;5;28;01mfrom\u001b[39;00m\u001b[38;5;250m \u001b[39m\u001b[38;5;21;01mdatabase\u001b[39;00m\u001b[38;5;21;01m.\u001b[39;00m\u001b[38;5;21;01mconnection\u001b[39;00m\u001b[38;5;250m \u001b[39m\u001b[38;5;28;01mimport\u001b[39;00m engine\n\u001b[0;32m      5\u001b[0m \u001b[38;5;28mprint\u001b[39m(CreateTable(User\u001b[38;5;241m.\u001b[39m__table__)\u001b[38;5;241m.\u001b[39mcompile(engine))\n",
      "\u001b[1;31mImportError\u001b[0m: cannot import name 'User' from 'database.orm' (c:\\dev2\\fastapi_study\\src\\database\\orm.py)"
     ]
    }
   ],
   "source": [
    "from sqlalchemy.schema import CreateTable\n",
    "from database.orm import Todo, User\n",
    "from database.connection import engine\n",
    "\n",
    "print(CreateTable(User.__table__).compile(engine))"
   ]
  }
 ],
 "metadata": {
  "kernelspec": {
   "display_name": ".venv",
   "language": "python",
   "name": "python3"
  },
  "language_info": {
   "codemirror_mode": {
    "name": "ipython",
    "version": 3
   },
   "file_extension": ".py",
   "mimetype": "text/x-python",
   "name": "python",
   "nbconvert_exporter": "python",
   "pygments_lexer": "ipython3",
   "version": "3.10.11"
  }
 },
 "nbformat": 4,
 "nbformat_minor": 5
}
